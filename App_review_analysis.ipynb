{
 "cells": [
  {
   "cell_type": "markdown",
   "id": "672bb92a",
   "metadata": {},
   "source": [
    "### TASK 1: GATHERING REVIEWS"
   ]
  },
  {
   "cell_type": "code",
   "execution_count": 3,
   "id": "09abef5b",
   "metadata": {},
   "outputs": [
    {
     "name": "stdout",
     "output_type": "stream",
     "text": [
      "Requirement already satisfied: google-play-scraper in c:\\users\\jjohn\\anaconda3\\lib\\site-packages (1.2.7)\n",
      "Requirement already satisfied: pandas in c:\\users\\jjohn\\anaconda3\\lib\\site-packages (2.2.2)\n",
      "Requirement already satisfied: numpy>=1.26.0 in c:\\users\\jjohn\\anaconda3\\lib\\site-packages (from pandas) (1.26.4)\n",
      "Requirement already satisfied: python-dateutil>=2.8.2 in c:\\users\\jjohn\\anaconda3\\lib\\site-packages (from pandas) (2.9.0.post0)\n",
      "Requirement already satisfied: pytz>=2020.1 in c:\\users\\jjohn\\anaconda3\\lib\\site-packages (from pandas) (2024.1)\n",
      "Requirement already satisfied: tzdata>=2022.7 in c:\\users\\jjohn\\anaconda3\\lib\\site-packages (from pandas) (2023.3)\n",
      "Requirement already satisfied: six>=1.5 in c:\\users\\jjohn\\anaconda3\\lib\\site-packages (from python-dateutil>=2.8.2->pandas) (1.16.0)\n"
     ]
    }
   ],
   "source": [
    "# Installing panda and google-play-scrapper libraries\n",
    "\n",
    "!pip install google-play-scraper pandas\n",
    "import pandas as pd\n",
    "from google_play_scraper import app, Sort, reviews_all"
   ]
  },
  {
   "cell_type": "code",
   "execution_count": 5,
   "id": "428a6214",
   "metadata": {},
   "outputs": [],
   "source": [
    "# Chosen Apps from Playstore\n",
    "\n",
    "apps = {\n",
    "    \"Google Assistant\": \"com.google.android.apps.googleassistant\",\n",
    "    \"Amazon Alexa\": \"com.amazon.dee.app\",\n",
    "    \"Vision - Smart Voice Assistant\": \"com.visionforhome\",\n",
    "    \"SoundHound Chat AI App\": \"com.hound.android.app\",\n",
    "    \"Microsoft Copilot\": \"com.microsoft.copilot\"\n",
    "}"
   ]
  },
  {
   "cell_type": "code",
   "execution_count": 9,
   "id": "ad299f69",
   "metadata": {},
   "outputs": [
    {
     "name": "stdout",
     "output_type": "stream",
     "text": [
      "Scraped 140550 reviews from com.google.android.apps.googleassistant\n",
      "Scraped 251057 reviews from com.amazon.dee.app\n",
      "Scraped 710 reviews from com.visionforhome\n",
      "Scraped 4894 reviews from com.hound.android.app\n",
      "Scraped 75001 reviews from com.microsoft.copilot\n",
      "\n",
      "Total reviews scraped from all the apps: 472212\n"
     ]
    }
   ],
   "source": [
    "# Scraping and storing the reviews from playstore\n",
    "\n",
    "all_reviews = [] # All the scraped reviews will be present in this variable\n",
    "total_count_of_reviews = 0  # Total count of reviews scraped\n",
    "\n",
    "for app_name, app_id in apps.items():\n",
    "    reviews = reviews_all(app_id, sleep_milliseconds = 0, lang = 'en', country = 'US', sort = Sort.NEWEST)\n",
    "    for review in reviews:\n",
    "        all_reviews.append({\n",
    "            \"Package name\": app_id,\n",
    "            \"Reviewer name\": review['userName'],\n",
    "            \"Review\": review['content'],\n",
    "            \"Rating\": review['score']\n",
    "        })\n",
    "    \n",
    "\n",
    "    # The total number of reviews scraped from each app\n",
    "    print(f\"Scraped {len(reviews)} reviews from {app_id}\")\n",
    "    total_count_of_reviews += len(reviews)\n",
    "\n",
    "print(f\"\\nTotal reviews scraped from all the apps: {total_count_of_reviews}\")"
   ]
  },
  {
   "cell_type": "code",
   "execution_count": 12,
   "id": "57c117ce",
   "metadata": {},
   "outputs": [
    {
     "name": "stdout",
     "output_type": "stream",
     "text": [
      "All reviews saved to all_reviews_of_apps_chosen.csv\n"
     ]
    }
   ],
   "source": [
    "# Saving all the review to a csv file\n",
    "\n",
    "df = pd.DataFrame(all_reviews)\n",
    "output_file = \"all_reviews_of_apps_chosen.csv\"\n",
    "df.to_csv(output_file, index=False)\n",
    "print(f\"All reviews saved to {output_file}\")"
   ]
  },
  {
   "cell_type": "code",
   "execution_count": null,
   "id": "d7ec6e59",
   "metadata": {},
   "outputs": [],
   "source": []
  }
 ],
 "metadata": {
  "kernelspec": {
   "display_name": "base",
   "language": "python",
   "name": "python3"
  },
  "language_info": {
   "codemirror_mode": {
    "name": "ipython",
    "version": 3
   },
   "file_extension": ".py",
   "mimetype": "text/x-python",
   "name": "python",
   "nbconvert_exporter": "python",
   "pygments_lexer": "ipython3",
   "version": "3.12.7"
  }
 },
 "nbformat": 4,
 "nbformat_minor": 5
}
